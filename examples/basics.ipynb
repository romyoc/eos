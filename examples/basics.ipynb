{
 "cells": [
  {
   "source": [
    "# Basics\n",
    "\n",
    "This notebook will introduce you to the basic data types and operations that are needed to use EOS."
   ],
   "cell_type": "markdown",
   "metadata": {}
  },
  {
   "source": [
    "## Importing the module\n",
    "\n",
    "Before you can begin using EOS, you need to load it into your Python interpreter. We achieve this with the ``import`` keyword."
   ],
   "cell_type": "markdown",
   "metadata": {}
  },
  {
   "cell_type": "code",
   "execution_count": 1,
   "metadata": {},
   "outputs": [],
   "source": [
    "import eos"
   ]
  },
  {
   "source": [
    "The import statement should go through without any error messages. If there are errors, they might be related to the following issues:\n",
    " - missing Python packages (try to run ``!pip3 install -U matplotlib numpy scipy``);\n",
    " - you might have forgotten to tell the Python interpreter where you installed EOS to ( this should only happen if you have **not** installed EOS using ``pip``)"
   ],
   "cell_type": "markdown",
   "metadata": {}
  },
  {
   "source": [
    "## (Almost) Everything can be a Parameter\n",
    "\n",
    "In EOS we make a lot of use of the ``eos.Parameter`` class. It provides access to one real-valued and scalar parameter, among a diverse and large set of parameters. You cannot create an object of type ``eos.Parameter`` yourself. Instead, you can create a new\n",
    "set of parameters, from which a specific one can extracted and its values analysed." 
   ],
   "cell_type": "markdown",
   "metadata": {}
  },
  {
   "cell_type": "code",
   "execution_count": 2,
   "metadata": {},
   "outputs": [],
   "source": [
    "parameters = eos.Parameters()"
   ]
  },
  {
   "source": [
    "The variable ``parameters`` now contains all of your parameters. You can use ``display(parameters)`` to see the full list, which is rather lengthy. Let's have a look at something more manageable: the parameters for the muon mass:"
   ],
   "cell_type": "markdown",
   "metadata": {}
  },
  {
   "cell_type": "code",
   "execution_count": 3,
   "metadata": {},
   "outputs": [
    {
     "output_type": "execute_result",
     "data": {
      "text/plain": [
       "<_eos.Parameter at 0x7ff71b837648>"
      ],
      "text/html": "\n    <table>\n        <tr>\n            <th>$$m_\\mu$$</th>\n            <td>(eos.Parameter)</td>\n        </tr>\n        <tr>\n            <th>current value</th>\n            <td><tt>0.105658</tt></td>\n        </tr>\n        <tr>\n            <th>default value</th>\n            <td><tt>0.105658</tt></td>\n        </tr>\n    </table>"
     },
     "metadata": {},
     "execution_count": 3
    }
   ],
   "source": [
    "parameters['mass::mu']"
   ]
  },
  {
   "source": [
    "Let's highlight some aspects of this output:\n",
    " - Parameters have a rigid naming scheme, and must contain at least two parts: the *prefix* part, which is separated by ``::`` from  the *name part*.\n",
    " - The masses of all fields, elementary or composite, are collected in the ``mass`` namespace.\n",
    " - EOS uses Giga electron Volt (GeV) for all masses, momenta and energies. \n",
    " - A parameter has a current value, and a default value. Both are shown, which makes it easy to see if a parameter has been modified.\n",
    "\n",
    "Let's do just that: we can modify the value of the muon mass. This is unlikely to be necessary, since it has been measured to such a high precision, but useful to illustrate how to work with parameters."
   ],
   "cell_type": "markdown",
   "metadata": {}
  },
  {
   "cell_type": "code",
   "execution_count": 4,
   "metadata": {},
   "outputs": [
    {
     "output_type": "display_data",
     "data": {
      "text/plain": "<_eos.Parameter at 0x7ff71b837510>",
      "text/html": "\n    <table>\n        <tr>\n            <th>$$m_\\mu$$</th>\n            <td>(eos.Parameter)</td>\n        </tr>\n        <tr>\n            <th>current value</th>\n            <td><tt>1.779</tt></td>\n        </tr>\n        <tr>\n            <th>default value</th>\n            <td><tt>0.105658</tt></td>\n        </tr>\n    </table>"
     },
     "metadata": {}
    }
   ],
   "source": [
    "m_mu = parameters['mass::mu']\n",
    "m_mu.set(1.779)  # we just made the muon as heavy as the tauon!\n",
    "display(m_mu)"
   ]
  },
  {
   "source": [
    "It's important to understand that the object is not living in \"isolation\", it is still part of the same parameter set (``parameters``). Accessing the muon mass through parameters again will therefore show the same information as ``m_mu``, but this time the modified mass value will be included as \"current value\" ."
   ],
   "cell_type": "markdown",
   "metadata": {}
  },
  {
   "cell_type": "code",
   "execution_count": 5,
   "metadata": {},
   "outputs": [
    {
     "output_type": "execute_result",
     "data": {
      "text/plain": [
       "<_eos.Parameter at 0x7ff71b8378b8>"
      ],
      "text/html": "\n    <table>\n        <tr>\n            <th>$$m_\\mu$$</th>\n            <td>(eos.Parameter)</td>\n        </tr>\n        <tr>\n            <th>current value</th>\n            <td><tt>1.779</tt></td>\n        </tr>\n        <tr>\n            <th>default value</th>\n            <td><tt>0.105658</tt></td>\n        </tr>\n    </table>"
     },
     "metadata": {},
     "execution_count": 5
    }
   ],
   "source": [
    "parameters['mass::mu']"
   ]
  },
  {
   "source": [
    "Brilliant! But what about if we want or need to have two independent sets of parameters? This could be needed, for example, to compare theory predictions for two different choices of parameters."
   ],
   "cell_type": "markdown",
   "metadata": {}
  },
  {
   "cell_type": "code",
   "execution_count": 6,
   "metadata": {},
   "outputs": [
    {
     "output_type": "execute_result",
     "data": {
      "text/plain": [
       "<_eos.Parameter at 0x7ff71b8379f0>"
      ],
      "text/html": "\n    <table>\n        <tr>\n            <th>$$m_\\mu$$</th>\n            <td>(eos.Parameter)</td>\n        </tr>\n        <tr>\n            <th>current value</th>\n            <td><tt>0.105658</tt></td>\n        </tr>\n        <tr>\n            <th>default value</th>\n            <td><tt>0.105658</tt></td>\n        </tr>\n    </table>"
     },
     "metadata": {},
     "execution_count": 6
    }
   ],
   "source": [
    "more_parameters = eos.Parameters()\n",
    "more_parameters['mass::mu']"
   ]
  },
  {
   "source": [
    "Very good! We see that each call to ``eos.Parameters`` creates and independent set of parameters, which start out with the defaults.\n",
    "You can browse the full list of parameters known to EOS by running ``display(eos.Parameters())`` or by going online to the [EOS documentation](https://eos.github.io/doc/parameters)."
   ],
   "cell_type": "markdown",
   "metadata": {}
  },
  {
   "source": [
    "You can access a parameter's name and LaTeX representation using the ``name`` or ``latex`` method seen below. The value is obtained using the ``evaluate`` method."
   ],
   "cell_type": "markdown",
   "metadata": {}
  },
  {
   "cell_type": "code",
   "execution_count": 7,
   "metadata": {},
   "outputs": [
    {
     "output_type": "display_data",
     "data": {
      "text/plain": "'mass::mu'"
     },
     "metadata": {}
    },
    {
     "output_type": "display_data",
     "data": {
      "text/plain": "'$m_\\\\mu$'"
     },
     "metadata": {}
    },
    {
     "output_type": "display_data",
     "data": {
      "text/plain": "1.779"
     },
     "metadata": {}
    }
   ],
   "source": [
    "display(m_mu.name())\n",
    "display(m_mu.latex())\n",
    "display(m_mu.evaluate())"
   ]
  },
  {
   "source": [
    "You can also treat a Parameter object just like any other Python object. It can be part of a ``list``, a ``dict``, or a ``tuple``:"
   ],
   "cell_type": "markdown",
   "metadata": {}
  },
  {
   "cell_type": "code",
   "execution_count": 8,
   "metadata": {},
   "outputs": [
    {
     "output_type": "display_data",
     "data": {
      "text/plain": "<_eos.Parameter at 0x7ff71b837a58>",
      "text/html": "\n    <table>\n        <tr>\n            <th>$$m_e$$</th>\n            <td>(eos.Parameter)</td>\n        </tr>\n        <tr>\n            <th>current value</th>\n            <td><tt>0.000510999</tt></td>\n        </tr>\n        <tr>\n            <th>default value</th>\n            <td><tt>0.000510999</tt></td>\n        </tr>\n    </table>"
     },
     "metadata": {}
    },
    {
     "output_type": "display_data",
     "data": {
      "text/plain": "<_eos.Parameter at 0x7ff71b837988>",
      "text/html": "\n    <table>\n        <tr>\n            <th>$$m_\\mu$$</th>\n            <td>(eos.Parameter)</td>\n        </tr>\n        <tr>\n            <th>current value</th>\n            <td><tt>1.779</tt></td>\n        </tr>\n        <tr>\n            <th>default value</th>\n            <td><tt>0.105658</tt></td>\n        </tr>\n    </table>"
     },
     "metadata": {}
    },
    {
     "output_type": "display_data",
     "data": {
      "text/plain": "<_eos.Parameter at 0x7ff71b837920>",
      "text/html": "\n    <table>\n        <tr>\n            <th>$$m_\\tau$$</th>\n            <td>(eos.Parameter)</td>\n        </tr>\n        <tr>\n            <th>current value</th>\n            <td><tt>1.77682</tt></td>\n        </tr>\n        <tr>\n            <th>default value</th>\n            <td><tt>1.77682</tt></td>\n        </tr>\n    </table>"
     },
     "metadata": {}
    },
    {
     "output_type": "display_data",
     "data": {
      "text/plain": "{'mass::e': '$m_e$', 'mass::mu': '$m_\\\\mu$', 'mass::tau': '$m_\\\\tau$'}"
     },
     "metadata": {}
    }
   ],
   "source": [
    "lepton_masses = [parameters['mass::' + l] for l in ['e', 'mu', 'tau']]\n",
    "[display(p) for p in lepton_masses]\n",
    "translation = { p.name(): p.latex() for p in lepton_masses}\n",
    "display(translation)"
   ]
  },
  {
   "source": [
    "These properties make it possible to bind a function to an arbitrary number of parameters, let the function evaluate these parameters in a computationally efficients way, and let the user change these parameters at a whim. Parameters are meant to be **shared**, i.e., a single set of parameters is meant to be used by arbitrary number of functions. The sharing of parameters is cause for the versatility in the EOS use cases."
   ],
   "cell_type": "markdown",
   "metadata": {}
  },
  {
   "source": [
    "## Kinematics and kinematic variables\n",
    "\n",
    "EOS makes also plentiful use of the ``eos.Kinematics`` class. Objects of this class are used to store a set of real-valued and scalar kinematic variables by name. Contrary to the parameters, there are no default variables or values. This would not make much sense: kinematic variables pertain to a single process. Consequently, naming of kinematic variables does not require a distinction by any sort of ``prefix``. We will see what kinematic variables a process requires in a later section.\n",
    "You can create an empty set of kinematic variables as follows:"
   ],
   "cell_type": "markdown",
   "metadata": {}
  },
  {
   "cell_type": "code",
   "execution_count": 9,
   "metadata": {},
   "outputs": [],
   "source": [
    "kinematics = eos.Kinematics()"
   ]
  },
  {
   "source": [
    "We can populate this object with a choice of kinematic variables:\n",
    " - We generally use ``q2`` or ``p2`` to denote the square of four momentum ``q`` or ``p``.\n",
    " - We generally use ``E_pi`` or ``E_gamma`` for the energy of a final state in the rest frame of the respective initial state.\n",
    " - We usually parametrize helicity angles via their cosines, e.g., ``cos(theta_l)`` or ``cos(theta_pi)``.\n",
    "As for parameters, we use powers of GeV as units."
   ],
   "cell_type": "markdown",
   "metadata": {}
  },
  {
   "cell_type": "code",
   "execution_count": 10,
   "metadata": {},
   "outputs": [],
   "source": [
    "k1 = kinematics.declare('q2',             1.0)   # 1 GeV^2\n",
    "k2 = kinematics.declare('E_pi',           0.139) # 139 MeV, a pion at rest!\n",
    "k3 = kinematics.declare('cos(theta_pi)', -1.0)   # negative values are OK!"
   ]
  },
  {
   "cell_type": "code",
   "execution_count": 11,
   "metadata": {},
   "outputs": [
    {
     "output_type": "display_data",
     "data": {
      "text/plain": "<_eos.Kinematics at 0x7ff73f745068>",
      "text/html": "<table>\n<tr><th><tt style=\"color:grey\">q2</tt></th><td>1.0</td></tr>\n<tr><th><tt style=\"color:grey\">E_pi</tt></th><td>0.139</td></tr>\n<tr><th><tt style=\"color:grey\">cos(theta_pi)</tt></th><td>-1.0</td></tr>\n</table>\n"
     },
     "metadata": {}
    }
   ],
   "source": [
    "display(kinematics)"
   ]
  },
  {
   "source": [
    "There are two ways to directly create the ``eos.Kinematics`` object populated with the variables you need.\n",
    "The first way works if all your kinematic variables names are also valid Python identifiers. (In the above example, ``cos(...)`` is **not** a valid identifier.)"
   ],
   "cell_type": "markdown",
   "metadata": {}
  },
  {
   "cell_type": "code",
   "execution_count": 12,
   "metadata": {},
   "outputs": [
    {
     "output_type": "display_data",
     "data": {
      "text/plain": "<_eos.Kinematics at 0x7ff71b7fb340>",
      "text/html": "<table>\n<tr><th><tt style=\"color:grey\">q2</tt></th><td>1.0</td></tr>\n<tr><th><tt style=\"color:grey\">E_pi</tt></th><td>0.139</td></tr>\n</table>\n"
     },
     "metadata": {}
    }
   ],
   "source": [
    "kinematics = eos.Kinematics(q2=1.0, E_pi=0.139)\n",
    "display(kinematics)"
   ]
  },
  {
   "source": [
    "The second way works also for variable names that are not valid identifiers. It uses Python \"keyword arguments\":"
   ],
   "cell_type": "markdown",
   "metadata": {}
  },
  {
   "cell_type": "code",
   "execution_count": 13,
   "metadata": {},
   "outputs": [
    {
     "output_type": "display_data",
     "data": {
      "text/plain": "<_eos.Kinematics at 0x7ff71b7fb490>",
      "text/html": "<table>\n<tr><th><tt style=\"color:grey\">q2</tt></th><td>1.0</td></tr>\n<tr><th><tt style=\"color:grey\">E_pi</tt></th><td>0.139</td></tr>\n<tr><th><tt style=\"color:grey\">cos(theta_l)</tt></th><td>-1.0</td></tr>\n</table>\n"
     },
     "metadata": {}
    }
   ],
   "source": [
    "kinematics = eos.Kinematics(**{\n",
    "    'q2': 1.0, 'E_pi': 0.139, 'cos(theta_l)': -1.0\n",
    "})\n",
    "display(kinematics)"
   ]
  },
  {
   "source": [
    "We can extract a kinematic variable from the set using the ``[...]`` operator:"
   ],
   "cell_type": "markdown",
   "metadata": {}
  },
  {
   "cell_type": "code",
   "execution_count": 14,
   "metadata": {},
   "outputs": [
    {
     "output_type": "display_data",
     "data": {
      "text/plain": "<_eos.KinematicVariable at 0x7ff71b7fd100>",
      "text/html": "\n        <table>\n            <tr>\n                <th>q2</th>\n                <td>(eos.KinematicVariable)</td>\n            </tr>\n            <tr>\n                <th>current value</th>\n                <td><tt>1.0</tt></td>\n            </tr>\n        </table>"
     },
     "metadata": {}
    }
   ],
   "source": [
    "k1 = kinematics['q2']\n",
    "display(k1)"
   ]
  },
  {
   "source": [
    "We can also modify the set by setting the value of an individual kinematic variable:"
   ],
   "cell_type": "markdown",
   "metadata": {}
  },
  {
   "cell_type": "code",
   "execution_count": 15,
   "metadata": {},
   "outputs": [
    {
     "output_type": "display_data",
     "data": {
      "text/plain": "<_eos.Kinematics at 0x7ff71b7fb490>",
      "text/html": "<table>\n<tr><th><tt style=\"color:grey\">q2</tt></th><td>16.0</td></tr>\n<tr><th><tt style=\"color:grey\">E_pi</tt></th><td>0.139</td></tr>\n<tr><th><tt style=\"color:grey\">cos(theta_l)</tt></th><td>-1.0</td></tr>\n</table>\n"
     },
     "metadata": {}
    }
   ],
   "source": [
    "k1.set(16.0)\n",
    "display(kinematics)"
   ]
  },
  {
   "source": [
    "Kinematic variables and their naming *usually* pertain to only a single observable. When creating observables, we therefore *usually* create an independet set of kinematic variables per observable. Nevertheless, it is possible to create observables that have a common set of kinematic variables. This makes it possible to investigate correlations among observables that share a kinematic variable (e.g., LFU ratios such as $R_K$ as a functions of the lower dilepton momentum cut-off)."
   ],
   "cell_type": "markdown",
   "metadata": {}
  },
  {
   "source": [
    "## Options and what they impact\n",
    "\n",
    "EOS allows us to modify the behaviour of processes through objects of the ``eos.Options`` class. In many cases, the processes have a default set of options, e.g., the process's default choice of hadronic form factors, its default choice of BSM model, and so on.\n",
    "In some cases, it does not make sense to have a default choice, e.g., when evaluating a single hadronic form factor. In such cases,\n",
    "you will see an error expressed through a Python exception.\n",
    "\n",
    "Contrary to parameters and kinematic variables, EOS does not permit to change a process's options after the creation. To make this abundantly clear: if you change an ``eos.Options`` object after it has been used (in, e.g. an observable), none of your modifications to the options will have any effect on the user (again, e.g. an observable)\n",
    "\n",
    "You can create a new and empty set of options as follows:"
   ],
   "cell_type": "markdown",
   "metadata": {}
  },
  {
   "cell_type": "code",
   "execution_count": 16,
   "metadata": {},
   "outputs": [],
   "source": [
    "options = eos.Options()"
   ]
  },
  {
   "source": [
    "We can now populate this object with individual options. Options are pairs of strings. Within each pair, we refer to the first element as the **key** and to the second element as the **value**. Typical keys include:\n",
    " - ``model``, to select a BSM model;\n",
    " - ``form-factors``, to select the parametrization of the hadronic form factors in semileptonic decays;\n",
    " - ``l``, to select a lepton flavour;\n",
    " - ``q``, to select a quark flavour (typically for a spectator quark).\n",
    "\n",
    "Option values are specific to both the process and the option key:\n",
    " - ``model`` can typically take values such as ``SM`` (for the Standard Model), ``CKMScan`` (to parametrize each CKM matrix element and fit for absolute value or complex phase), and ``WilsonScan`` (to parametrize the Wilson coefficients of the Weak Effective Theory);\n",
    " - ``form-factors`` can typically take values that identify a single paper (e.g. ``BSZ2015`` for a parametrization used in Bharuch, Straub, Zwicky 2015);\n",
    " - ``l`` can typically take values ``e``, ``mu`` and ``tau``;\n",
    " - ``q`` can typically take values ``u``, ``d``, ``s``, and ``c``.\n",
    "\n",
    "Option keys a specific to a process. Presently, there is no way to list all option keys that a process understands, or to see their possible values. We are working on that!\n",
    "\n",
    "Adding options to the set can be achieved by the following:"
   ],
   "cell_type": "markdown",
   "metadata": {}
  },
  {
   "cell_type": "code",
   "execution_count": 17,
   "metadata": {},
   "outputs": [],
   "source": [
    "options.set('model', 'CKMScan')\n",
    "options.set('form-factors', 'BSZ2015')\n",
    "options.set('l', 'mu')                 # Since we are all so \"cautiously excited\"!\n",
    "options.set('q', 's')"
   ]
  },
  {
   "cell_type": "code",
   "execution_count": 18,
   "metadata": {},
   "outputs": [
    {
     "output_type": "execute_result",
     "data": {
      "text/plain": [
       "<_eos.Options at 0x7ff71b7fb308>"
      ],
      "text/html": "<table>\n<tr><th><tt style=\"color:grey\">form-factors</tt></th><td>BSZ2015</td></tr>\n<tr><th><tt style=\"color:grey\">l</tt></th><td>mu</td></tr>\n<tr><th><tt style=\"color:grey\">model</tt></th><td>CKMScan</td></tr>\n<tr><th><tt style=\"color:grey\">q</tt></th><td>s</td></tr>\n</table>\n"
     },
     "metadata": {},
     "execution_count": 18
    }
   ],
   "source": [
    "options"
   ]
  },
  {
   "source": [
    "There are two ways to directly create an ``eos.Options`` object populated with the options you need. The first way works if all your option keys are also valid Python identifiers. (In the above example ``form-factors`` is not a valid identifier.)"
   ],
   "cell_type": "markdown",
   "metadata": {}
  },
  {
   "cell_type": "code",
   "execution_count": 19,
   "metadata": {},
   "outputs": [
    {
     "output_type": "display_data",
     "data": {
      "text/plain": "<_eos.Options at 0x7ff71b7fb6f8>",
      "text/html": "<table>\n<tr><th><tt style=\"color:grey\">l</tt></th><td>mu</td></tr>\n<tr><th><tt style=\"color:grey\">model</tt></th><td>CKMScan</td></tr>\n<tr><th><tt style=\"color:grey\">q</tt></th><td>s</td></tr>\n</table>\n"
     },
     "metadata": {}
    }
   ],
   "source": [
    "options = eos.Options(l='mu', q='s', model='CKMScan')\n",
    "display(options)"
   ]
  },
  {
   "source": [
    "The second way works also for option keys that are not valid identifiers. It uses Python \"keyword arguments\":"
   ],
   "cell_type": "markdown",
   "metadata": {}
  },
  {
   "cell_type": "code",
   "execution_count": 20,
   "metadata": {},
   "outputs": [
    {
     "output_type": "display_data",
     "data": {
      "text/plain": "<_eos.Options at 0x7ff71b7fb9d0>",
      "text/html": "<table>\n<tr><th><tt style=\"color:grey\">form-factors</tt></th><td>BSZ2015</td></tr>\n<tr><th><tt style=\"color:grey\">l</tt></th><td>tau</td></tr>\n<tr><th><tt style=\"color:grey\">model</tt></th><td>WilsonScan</td></tr>\n<tr><th><tt style=\"color:grey\">q</tt></th><td>s</td></tr>\n</table>\n"
     },
     "metadata": {}
    }
   ],
   "source": [
    "options = eos.Options(**{\n",
    "    'form-factors': 'BSZ2015',\n",
    "    'model': 'WilsonScan',\n",
    "    'l': 'tau',\n",
    "    'q': 's'\n",
    "})\n",
    "display(options)"
   ]
  },
  {
   "source": [
    "## Applying what we learned: creating our first Observable\n",
    "\n",
    "EOS uses the class ``eos.Observable`` to provide theory predictions for a variety of processes and their associated observables.\n",
    "A list of all observables known to EOS is available online in the documentation, or via:"
   ],
   "cell_type": "markdown",
   "metadata": {}
  },
  {
   "cell_type": "code",
   "execution_count": 21,
   "metadata": {},
   "outputs": [],
   "source": [
    " # The list is rather long; uncomment the following line by removing the leading '#'\n",
    " # eos.Observables()"
   ]
  },
  {
   "source": [
    "To create an observable, we require:\n",
    " - its name,\n",
    " - a set of parameters that it will be bound to,\n",
    " - a set of kinematic variables that it will be bound to,\n",
    " - a set of options."
   ],
   "cell_type": "markdown",
   "metadata": {}
  },
  {
   "cell_type": "code",
   "execution_count": 22,
   "metadata": {},
   "outputs": [
    {
     "output_type": "display_data",
     "data": {
      "text/plain": "<_eos.Observable at 0x7ff71b801298>",
      "text/html": "\n        <table>\n            <tr>\n                <th>B_q->ll::BR@Untagged</th>\n                <td colspan=\"2\">(eos.Observable)</td>\n            </tr>\n            <tr>\n                <th rowspan=\"1\">kinematics</th>\n                <td colspan=2>none</td>\n            </tr>\n            \n            <tr>\n                <th rowspan=\"3\">options</th>\n                <th>l</th><td>mu</td>\n            </tr>\n            <tr><th>model</th><td>WilsonScan</td></tr>\n<tr><th>q</th><td>s</td></tr>\n            <tr>\n                <th>current value</th>\n                <td colspan=\"2\"><tt>3.567e-09</tt></td>\n            </tr>\n        </table>"
     },
     "metadata": {}
    },
    {
     "output_type": "stream",
     "name": "stdout",
     "text": [
      "----\n"
     ]
    },
    {
     "output_type": "display_data",
     "data": {
      "text/plain": "<_eos.Observable at 0x7ff71b8012f0>",
      "text/html": "\n        <table>\n            <tr>\n                <th>B->D^*lnu::A_FB</th>\n                <td colspan=\"2\">(eos.Observable)</td>\n            </tr>\n            <tr>\n                <th rowspan=\"2\">kinematics</th>\n                <th>q2_min</th><td>0.02</td>\n            </tr>\n            <tr><th>q2_max</th><td>10.67</td></tr>\n            <tr>\n                <th rowspan=\"1\">options</th>\n                <th>l</th><td>mu</td>\n            </tr>\n            \n            <tr>\n                <th>current value</th>\n                <td colspan=\"2\"><tt>0.1674</tt></td>\n            </tr>\n        </table>"
     },
     "metadata": {}
    }
   ],
   "source": [
    "observable1 = eos.Observable.make('B_q->ll::BR@Untagged',\n",
    "        eos.Parameters(),\n",
    "        eos.Kinematics(),\n",
    "        eos.Options(model='WilsonScan', q='s', l='mu')\n",
    ")\n",
    "display(observable1)\n",
    "print('----')\n",
    "observable2 = eos.Observable.make('B->D^*lnu::A_FB',\n",
    "        eos.Parameters(),\n",
    "        eos.Kinematics(q2_min=0.02, q2_max=10.67),\n",
    "        eos.Options(l='mu')\n",
    ")\n",
    "display(observable2)"
   ]
  },
  {
   "source": [
    "You can access an observable's set of parameters through the ``parameters`` method:"
   ],
   "cell_type": "markdown",
   "metadata": {}
  },
  {
   "cell_type": "code",
   "execution_count": 23,
   "metadata": {},
   "outputs": [
    {
     "output_type": "execute_result",
     "data": {
      "text/plain": [
       "False"
      ]
     },
     "metadata": {},
     "execution_count": 23
    }
   ],
   "source": [
    "observable1.parameters() == observable2.parameters()"
   ]
  },
  {
   "source": [
    "As you can see, the two observables do not share a common set of parameters, even though all their parameter values are identical. Changes to the parameters of ``observable1`` do not affect ``observable2``."
   ],
   "cell_type": "markdown",
   "metadata": {}
  },
  {
   "source": [
    "You can also access the set of kinematic variables through the ``kinematics`` method:"
   ],
   "cell_type": "markdown",
   "metadata": {}
  },
  {
   "cell_type": "code",
   "execution_count": 24,
   "metadata": {},
   "outputs": [
    {
     "output_type": "execute_result",
     "data": {
      "text/plain": [
       "<_eos.Kinematics at 0x7ff71b8013a0>"
      ],
      "text/html": "<table>\n<tr><th><tt style=\"color:grey\">q2_min</tt></th><td>0.02</td></tr>\n<tr><th><tt style=\"color:grey\">q2_max</tt></th><td>10.67</td></tr>\n</table>\n"
     },
     "metadata": {},
     "execution_count": 24
    }
   ],
   "source": [
    "observable2.kinematics()"
   ]
  },
  {
   "source": [
    "Finally, you can access the set of options with which an ``eos.Observable`` has been constructed through the ``options`` method:"
   ],
   "cell_type": "markdown",
   "metadata": {}
  },
  {
   "cell_type": "code",
   "execution_count": 25,
   "metadata": {},
   "outputs": [
    {
     "output_type": "execute_result",
     "data": {
      "text/plain": [
       "<_eos.Options at 0x7ff71b801450>"
      ],
      "text/html": "<table>\n<tr><th><tt style=\"color:grey\">l</tt></th><td>mu</td></tr>\n<tr><th><tt style=\"color:grey\">model</tt></th><td>WilsonScan</td></tr>\n<tr><th><tt style=\"color:grey\">q</tt></th><td>s</td></tr>\n</table>\n"
     },
     "metadata": {},
     "execution_count": 25
    }
   ],
   "source": [
    "observable1.options()"
   ]
  },
  {
   "source": [
    "Any observable can be handled just like any other Python object. For example, we can readily create a list of observables that differ only by one of their kinematic variables, e.g. to plot an observables as a function of the kinematic variable."
   ],
   "cell_type": "markdown",
   "metadata": {}
  },
  {
   "cell_type": "code",
   "execution_count": 26,
   "metadata": {},
   "outputs": [
    {
     "output_type": "display_data",
     "data": {
      "text/plain": "[0.07568167619600394,\n 0.14540687361030025,\n 0.18550212944207703,\n 0.20752414012171227,\n 0.2160779168296866,\n 0.21324089622890918,\n 0.19946563045552954,\n 0.17338309618702236,\n 0.12940814736260464,\n 0.017723854042111166]"
     },
     "metadata": {}
    }
   ],
   "source": [
    "import numpy\n",
    "\n",
    "parameters  = eos.Parameters()\n",
    "observables = [\n",
    "    eos.Observable.make('B->D^*lnu::A_FB(q2)', parameters, eos.Kinematics(q2=q2), eos.Options())\n",
    "    for q2 in numpy.linspace(1.00, 10.67, 10)\n",
    "]\n",
    "\n",
    "values = [o.evaluate() for o in observables]\n",
    "display(values)"
   ]
  },
  {
   "source": [
    "With this knowledge, you can now proceed to look at the example use cases in the documentation and the other interactive notebook examples."
   ],
   "cell_type": "markdown",
   "metadata": {}
  }
 ],
 "metadata": {
  "kernelspec": {
   "display_name": "Python 3",
   "language": "python",
   "name": "python3"
  },
  "language_info": {
   "codemirror_mode": {
    "name": "ipython",
    "version": 3
   },
   "file_extension": ".py",
   "mimetype": "text/x-python",
   "name": "python",
   "nbconvert_exporter": "python",
   "pygments_lexer": "ipython3",
   "version": "3.6.9-final"
  }
 },
 "nbformat": 4,
 "nbformat_minor": 2
}
